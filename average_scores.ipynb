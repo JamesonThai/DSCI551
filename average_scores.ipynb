{
 "cells": [
  {
   "cell_type": "code",
   "execution_count": 1,
   "metadata": {},
   "outputs": [],
   "source": [
    "# Data Manipulation\n",
    "import pandas as pd\n",
    "\n",
    "# System\n",
    "import sys\n",
    "\n",
    "# Packages to upload to firebase\n",
    "import json\n",
    "import requests"
   ]
  },
  {
   "cell_type": "code",
   "execution_count": 2,
   "metadata": {},
   "outputs": [],
   "source": [
    "query = f'https://neighborhood-score-la.firebaseio.com/NeighborhoodData.json'"
   ]
  },
  {
   "cell_type": "code",
   "execution_count": 3,
   "metadata": {},
   "outputs": [],
   "source": [
    "json_query = requests.get(query)"
   ]
  },
  {
   "cell_type": "code",
   "execution_count": 4,
   "metadata": {},
   "outputs": [],
   "source": [
    "dict_query = json.loads(json_query.text)"
   ]
  },
  {
   "cell_type": "code",
   "execution_count": 5,
   "metadata": {},
   "outputs": [],
   "source": [
    "df_output = pd.DataFrame.from_dict(dict_query).T"
   ]
  },
  {
   "cell_type": "code",
   "execution_count": 6,
   "metadata": {},
   "outputs": [
    {
     "data": {
      "text/plain": [
       "CrimeCount        1800.733333\n",
       "CrimeScore           0.159866\n",
       "HousingScore    872109.426233\n",
       "SizeRank           528.403226\n",
       "AVG_SCR_ENG         20.158077\n",
       "AVG_SCR_MATH        20.187692\n",
       "AVG_SCR_READ        20.583077\n",
       "AVG_SCR_SCI         19.946923\n",
       "AvgACT              20.218887\n",
       "dtype: float64"
      ]
     },
     "execution_count": 6,
     "metadata": {},
     "output_type": "execute_result"
    }
   ],
   "source": [
    "df_output.mean(axis=0)"
   ]
  },
  {
   "cell_type": "code",
   "execution_count": 7,
   "metadata": {},
   "outputs": [
    {
     "data": {
      "text/plain": [
       "CrimeCount        5102.947596\n",
       "CrimeScore           0.039593\n",
       "HousingScore    525755.944464\n",
       "SizeRank           783.487610\n",
       "AVG_SCR_ENG          3.998679\n",
       "AVG_SCR_MATH         3.261135\n",
       "AVG_SCR_READ         3.436879\n",
       "AVG_SCR_SCI          2.913808\n",
       "AvgACT               3.355843\n",
       "dtype: float64"
      ]
     },
     "execution_count": 7,
     "metadata": {},
     "output_type": "execute_result"
    }
   ],
   "source": [
    "df_output.std(axis=0)"
   ]
  },
  {
   "cell_type": "markdown",
   "metadata": {},
   "source": [
    "**That's All**"
   ]
  }
 ],
 "metadata": {
  "kernelspec": {
   "display_name": "Python 3",
   "language": "python",
   "name": "python3"
  },
  "language_info": {
   "codemirror_mode": {
    "name": "ipython",
    "version": 3
   },
   "file_extension": ".py",
   "mimetype": "text/x-python",
   "name": "python",
   "nbconvert_exporter": "python",
   "pygments_lexer": "ipython3",
   "version": "3.7.7"
  }
 },
 "nbformat": 4,
 "nbformat_minor": 4
}
