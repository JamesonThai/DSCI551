{
 "cells": [
  {
   "cell_type": "code",
   "execution_count": 1,
   "metadata": {},
   "outputs": [],
   "source": [
    "from pyspark import SparkConf, SparkContext, sql\n",
    "from pyspark.sql import SparkSession"
   ]
  },
  {
   "cell_type": "code",
   "execution_count": 7,
   "metadata": {},
   "outputs": [
    {
     "data": {
      "text/html": [
       "\n",
       "            <div>\n",
       "                <p><b>SparkSession - hive</b></p>\n",
       "                \n",
       "        <div>\n",
       "            <p><b>SparkContext</b></p>\n",
       "\n",
       "            <p><a href=\"http://Matheus-PC:4040\">Spark UI</a></p>\n",
       "\n",
       "            <dl>\n",
       "              <dt>Version</dt>\n",
       "                <dd><code>v2.4.2</code></dd>\n",
       "              <dt>Master</dt>\n",
       "                <dd><code>local[*]</code></dd>\n",
       "              <dt>AppName</dt>\n",
       "                <dd><code>PySparkShell</code></dd>\n",
       "            </dl>\n",
       "        </div>\n",
       "        \n",
       "            </div>\n",
       "        "
      ],
      "text/plain": [
       "<pyspark.sql.session.SparkSession at 0x15f92d6d488>"
      ]
     },
     "execution_count": 7,
     "metadata": {},
     "output_type": "execute_result"
    }
   ],
   "source": [
    "# Initiate the sqlSession, sqlContext and get the link for the Spark UI\n",
    "sqlSession = SparkSession.builder.master(\"local\").appName(\"Neighborhood-Scorer\").getOrCreate()\n",
    "sqlContext = SQLContext(sc)\n",
    "sqlContext.sparkSession"
   ]
  },
  {
   "cell_type": "code",
   "execution_count": 2,
   "metadata": {},
   "outputs": [],
   "source": [
    "import mysql.connector\n",
    "import sys"
   ]
  },
  {
   "cell_type": "code",
   "execution_count": 3,
   "metadata": {},
   "outputs": [],
   "source": [
    "cnx = mysql.connector.connect(user='matt', password='Sup3rDup3rC@li', host='3.86.145.6', database = 'dsci551', auth_plugin = 'mysql_native_password')"
   ]
  },
  {
   "cell_type": "code",
   "execution_count": 4,
   "metadata": {},
   "outputs": [],
   "source": [
    "cursor = cnx.cursor()"
   ]
  },
  {
   "cell_type": "code",
   "execution_count": 5,
   "metadata": {},
   "outputs": [],
   "source": [
    "cursor.execute(\"SHOW TABLES\")\n",
    "\n",
    "tables = cursor.fetchall() ## it returns list of tables present in the database"
   ]
  },
  {
   "cell_type": "code",
   "execution_count": 6,
   "metadata": {},
   "outputs": [
    {
     "data": {
      "text/plain": [
       "[('ACT_neighborhoods',), ('CRIME',), ('rent_scores',)]"
      ]
     },
     "execution_count": 6,
     "metadata": {},
     "output_type": "execute_result"
    }
   ],
   "source": [
    "tables"
   ]
  },
  {
   "cell_type": "code",
   "execution_count": 8,
   "metadata": {},
   "outputs": [
    {
     "data": {
      "text/plain": [
       "<bound method DataFrame.show of DataFrame[id: int, dr_no: int, date_occ: date, neighborhood: string, crime_weighted_norm: decimal(38,15)]>"
      ]
     },
     "execution_count": 8,
     "metadata": {},
     "output_type": "execute_result"
    }
   ],
   "source": [
    "df1 = sqlContext.read.format(\"jdbc\").option(\"url\", \"jdbc:mysql://3.86.145.6/dsci551\").option(\"driver\", \"com.mysql.jdbc.Driver\").option(\"dbtable\", \"CRIME\").option(\"user\", \"matt\").option(\"password\", \"Sup3rDup3rC@li\").load()"
   ]
  },
  {
   "cell_type": "code",
   "execution_count": 9,
   "metadata": {},
   "outputs": [
    {
     "name": "stdout",
     "output_type": "stream",
     "text": [
      "+---+---------+----------+--------------------+-------------------+\n",
      "| id|    dr_no|  date_occ|        neighborhood|crime_weighted_norm|\n",
      "+---+---------+----------+--------------------+-------------------+\n",
      "|  1|191907191|2019-03-07|              Sylmar|  0.113706949000000|\n",
      "|  2|190125334|2019-10-16|Downtown Los Angeles|  0.246650906000000|\n",
      "|  3|191920961|2019-12-21|    North Hills East|  0.113706949000000|\n",
      "|  4|190604395|2019-01-08|          Central LA|  0.113706949000000|\n",
      "|  5|191310615|2019-04-29|   South Los Angeles|  0.113706949000000|\n",
      "|  6|191419522|2019-09-02|         Westchester|  0.113706949000000|\n",
      "|  7|190123550|2019-09-20|Downtown Los Angeles|  0.246650906000000|\n",
      "|  8|191915118|2019-08-17|              Sylmar|  0.113706949000000|\n",
      "|  9|190811511|2019-06-19|           Brentwood|  0.113706949000000|\n",
      "| 10|191605013|2019-01-28|          Sun Valley|  0.113706949000000|\n",
      "| 11|190129579|2019-12-17|Downtown Los Angeles|  0.113706949000000|\n",
      "| 12|191116816|2019-09-17|Northeast Los Ang...|  0.057744638000000|\n",
      "| 13|190220657|2019-10-24|            Westlake|  0.113706949000000|\n",
      "| 14|191307997|2019-03-13|Downtown Los Angeles|  0.246650906000000|\n",
      "| 15|190211654|2019-05-18|            Westlake|  0.113706949000000|\n",
      "| 16|191919183|2019-11-11|              Arleta|  0.113706949000000|\n",
      "| 17|191106587|2019-02-19|       Highland Park|  0.113706949000000|\n",
      "| 18|191309607|2019-04-09|   South Los Angeles|  0.113706949000000|\n",
      "| 19|190412442|2019-07-16|     Lincoln Heights|  0.270952490000000|\n",
      "| 20|191822844|2019-11-07|Harbor Gateway North|  0.113706949000000|\n",
      "+---+---------+----------+--------------------+-------------------+\n",
      "only showing top 20 rows\n",
      "\n"
     ]
    }
   ],
   "source": [
    "df4.show()"
   ]
  },
  {
   "cell_type": "code",
   "execution_count": null,
   "metadata": {},
   "outputs": [],
   "source": []
  }
 ],
 "metadata": {
  "kernelspec": {
   "display_name": "Python 3",
   "language": "python",
   "name": "python3"
  },
  "language_info": {
   "codemirror_mode": {
    "name": "ipython",
    "version": 3
   },
   "file_extension": ".py",
   "mimetype": "text/x-python",
   "name": "python",
   "nbconvert_exporter": "python",
   "pygments_lexer": "ipython3",
   "version": "3.7.7"
  }
 },
 "nbformat": 4,
 "nbformat_minor": 4
}
