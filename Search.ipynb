{
 "cells": [
  {
   "cell_type": "code",
   "execution_count": 1,
   "metadata": {},
   "outputs": [],
   "source": [
    "# Data Manipulation\n",
    "import pandas as pd\n",
    "\n",
    "# System\n",
    "import sys\n",
    "\n",
    "# Packages to upload to firebase\n",
    "import json\n",
    "import requests"
   ]
  },
  {
   "cell_type": "code",
   "execution_count": 2,
   "metadata": {},
   "outputs": [],
   "source": [
    "# Inputs\n",
    "sys.argv[1] = ['Koreatown', 'Bel Air']\n",
    "sys.argv[2] = ['CrimeCount', 'CrimeScore']\n",
    "\n",
    "NEIGHBORHOODS = sys.argv[1]\n",
    "FEATURES = sys.argv[2]"
   ]
  },
  {
   "cell_type": "code",
   "execution_count": 3,
   "metadata": {},
   "outputs": [],
   "source": [
    "def search_neighborhoods_features(NEIGHBORHOODS, FEATURES):\n",
    "\n",
    "    query_output_dict = {}\n",
    "\n",
    "    # First populate the query_output_dict\n",
    "    for feat in FEATURES:\n",
    "        for neig in NEIGHBORHOODS:\n",
    "            query_output_dict[neig] = {feat: None}\n",
    "\n",
    "    # Then query\n",
    "    for feat in FEATURES:\n",
    "        for neig in NEIGHBORHOODS:\n",
    "            query = f'https://neighborhood-score-la.firebaseio.com/{feat}/{neig}.json'\n",
    "            json_query = requests.get(query)\n",
    "            dict_query = json.loads(json_query.text)\n",
    "            query_output_dict[neig][feat] = dict_query\n",
    "\n",
    "    df_output = pd.DataFrame.from_dict(query_output_dict).T \n",
    "    \n",
    "    return df_output"
   ]
  },
  {
   "cell_type": "code",
   "execution_count": 4,
   "metadata": {
    "scrolled": false
   },
   "outputs": [],
   "source": [
    "def search_neighborhoods(NEIGHBORHOODS):\n",
    "\n",
    "    query_output_dict = {}\n",
    "\n",
    "    for neig in NEIGHBORHOODS:\n",
    "        query = f'https://neighborhood-score-la.firebaseio.com/NeighborhoodData/{neig}.json'\n",
    "        json_query = requests.get(query)\n",
    "        dict_query = json.loads(json_query.text)\n",
    "        query_output_dict[neig] = dict_query\n",
    "\n",
    "    df_output = pd.DataFrame.from_dict(query_output_dict).T\n",
    "    \n",
    "    return df_output"
   ]
  },
  {
   "cell_type": "code",
   "execution_count": 5,
   "metadata": {
    "scrolled": true
   },
   "outputs": [],
   "source": [
    "def search_features(FEATURES):\n",
    "\n",
    "    query_output_dict = {}\n",
    "\n",
    "    for feat in FEATURES:\n",
    "        query = f'https://neighborhood-score-la.firebaseio.com/{feat}.json'\n",
    "        json_query = requests.get(query)\n",
    "        dict_query = json.loads(json_query.text)\n",
    "        query_output_dict[feat] = dict_query\n",
    "\n",
    "    df_output = pd.DataFrame.from_dict(query_output_dict)\n",
    "    \n",
    "    return df_output"
   ]
  },
  {
   "cell_type": "code",
   "execution_count": 6,
   "metadata": {},
   "outputs": [
    {
     "data": {
      "text/html": [
       "<div>\n",
       "<style scoped>\n",
       "    .dataframe tbody tr th:only-of-type {\n",
       "        vertical-align: middle;\n",
       "    }\n",
       "\n",
       "    .dataframe tbody tr th {\n",
       "        vertical-align: top;\n",
       "    }\n",
       "\n",
       "    .dataframe thead th {\n",
       "        text-align: right;\n",
       "    }\n",
       "</style>\n",
       "<table border=\"1\" class=\"dataframe\">\n",
       "  <thead>\n",
       "    <tr style=\"text-align: right;\">\n",
       "      <th></th>\n",
       "      <th>CrimeScore</th>\n",
       "      <th>CrimeCount</th>\n",
       "    </tr>\n",
       "  </thead>\n",
       "  <tbody>\n",
       "    <tr>\n",
       "      <th>Koreatown</th>\n",
       "      <td>0.157397</td>\n",
       "      <td>2423.0</td>\n",
       "    </tr>\n",
       "    <tr>\n",
       "      <th>Bel Air</th>\n",
       "      <td>0.154696</td>\n",
       "      <td>250.0</td>\n",
       "    </tr>\n",
       "  </tbody>\n",
       "</table>\n",
       "</div>"
      ],
      "text/plain": [
       "           CrimeScore  CrimeCount\n",
       "Koreatown    0.157397      2423.0\n",
       "Bel Air      0.154696       250.0"
      ]
     },
     "execution_count": 6,
     "metadata": {},
     "output_type": "execute_result"
    }
   ],
   "source": [
    "#search_neighborhoods_features(NEIGHBORHOODS, FEATURES)"
   ]
  },
  {
   "cell_type": "code",
   "execution_count": 7,
   "metadata": {},
   "outputs": [
    {
     "data": {
      "text/html": [
       "<div>\n",
       "<style scoped>\n",
       "    .dataframe tbody tr th:only-of-type {\n",
       "        vertical-align: middle;\n",
       "    }\n",
       "\n",
       "    .dataframe tbody tr th {\n",
       "        vertical-align: top;\n",
       "    }\n",
       "\n",
       "    .dataframe thead th {\n",
       "        text-align: right;\n",
       "    }\n",
       "</style>\n",
       "<table border=\"1\" class=\"dataframe\">\n",
       "  <thead>\n",
       "    <tr style=\"text-align: right;\">\n",
       "      <th></th>\n",
       "      <th>AvgACT</th>\n",
       "      <th>AvgScrEng</th>\n",
       "      <th>AvgScrMath</th>\n",
       "      <th>AvgScrRead</th>\n",
       "      <th>AvgScrSci</th>\n",
       "      <th>CrimeCount</th>\n",
       "      <th>CrimeScore</th>\n",
       "      <th>HousingScore</th>\n",
       "      <th>SizeRank</th>\n",
       "    </tr>\n",
       "  </thead>\n",
       "  <tbody>\n",
       "    <tr>\n",
       "      <th>Koreatown</th>\n",
       "      <td>20.5</td>\n",
       "      <td>22.0</td>\n",
       "      <td>18.0</td>\n",
       "      <td>22.0</td>\n",
       "      <td>20.0</td>\n",
       "      <td>2423.0</td>\n",
       "      <td>0.157397</td>\n",
       "      <td>6.291245e+05</td>\n",
       "      <td>82.0</td>\n",
       "    </tr>\n",
       "    <tr>\n",
       "      <th>Bel Air</th>\n",
       "      <td>NaN</td>\n",
       "      <td>NaN</td>\n",
       "      <td>NaN</td>\n",
       "      <td>NaN</td>\n",
       "      <td>NaN</td>\n",
       "      <td>250.0</td>\n",
       "      <td>0.154696</td>\n",
       "      <td>3.048067e+06</td>\n",
       "      <td>2260.0</td>\n",
       "    </tr>\n",
       "  </tbody>\n",
       "</table>\n",
       "</div>"
      ],
      "text/plain": [
       "           AvgACT  AvgScrEng  AvgScrMath  AvgScrRead  AvgScrSci  CrimeCount  \\\n",
       "Koreatown    20.5       22.0        18.0        22.0       20.0      2423.0   \n",
       "Bel Air       NaN        NaN         NaN         NaN        NaN       250.0   \n",
       "\n",
       "           CrimeScore  HousingScore  SizeRank  \n",
       "Koreatown    0.157397  6.291245e+05      82.0  \n",
       "Bel Air      0.154696  3.048067e+06    2260.0  "
      ]
     },
     "execution_count": 7,
     "metadata": {},
     "output_type": "execute_result"
    }
   ],
   "source": [
    "#search_neighborhoods(NEIGHBORHOODS)"
   ]
  },
  {
   "cell_type": "code",
   "execution_count": 8,
   "metadata": {},
   "outputs": [
    {
     "data": {
      "text/html": [
       "<div>\n",
       "<style scoped>\n",
       "    .dataframe tbody tr th:only-of-type {\n",
       "        vertical-align: middle;\n",
       "    }\n",
       "\n",
       "    .dataframe tbody tr th {\n",
       "        vertical-align: top;\n",
       "    }\n",
       "\n",
       "    .dataframe thead th {\n",
       "        text-align: right;\n",
       "    }\n",
       "</style>\n",
       "<table border=\"1\" class=\"dataframe\">\n",
       "  <thead>\n",
       "    <tr style=\"text-align: right;\">\n",
       "      <th></th>\n",
       "      <th>CrimeCount</th>\n",
       "      <th>CrimeScore</th>\n",
       "    </tr>\n",
       "  </thead>\n",
       "  <tbody>\n",
       "    <tr>\n",
       "      <th>Arleta</th>\n",
       "      <td>994</td>\n",
       "      <td>0.152963</td>\n",
       "    </tr>\n",
       "    <tr>\n",
       "      <th>Art District</th>\n",
       "      <td>114</td>\n",
       "      <td>0.146440</td>\n",
       "    </tr>\n",
       "    <tr>\n",
       "      <th>Baldwin Hills</th>\n",
       "      <td>142</td>\n",
       "      <td>0.158982</td>\n",
       "    </tr>\n",
       "    <tr>\n",
       "      <th>Bel Air</th>\n",
       "      <td>250</td>\n",
       "      <td>0.154696</td>\n",
       "    </tr>\n",
       "    <tr>\n",
       "      <th>Beverly Glen</th>\n",
       "      <td>216</td>\n",
       "      <td>0.162599</td>\n",
       "    </tr>\n",
       "    <tr>\n",
       "      <th>...</th>\n",
       "      <td>...</td>\n",
       "      <td>...</td>\n",
       "    </tr>\n",
       "    <tr>\n",
       "      <th>Wilmington</th>\n",
       "      <td>2797</td>\n",
       "      <td>0.163433</td>\n",
       "    </tr>\n",
       "    <tr>\n",
       "      <th>Wilshire Center</th>\n",
       "      <td>1009</td>\n",
       "      <td>0.163769</td>\n",
       "    </tr>\n",
       "    <tr>\n",
       "      <th>Windsor Hills</th>\n",
       "      <td>1</td>\n",
       "      <td>0.057745</td>\n",
       "    </tr>\n",
       "    <tr>\n",
       "      <th>Winnetka</th>\n",
       "      <td>1226</td>\n",
       "      <td>0.163329</td>\n",
       "    </tr>\n",
       "    <tr>\n",
       "      <th>Woodland Hills</th>\n",
       "      <td>3697</td>\n",
       "      <td>0.170938</td>\n",
       "    </tr>\n",
       "  </tbody>\n",
       "</table>\n",
       "<p>120 rows × 2 columns</p>\n",
       "</div>"
      ],
      "text/plain": [
       "                 CrimeCount  CrimeScore\n",
       "Arleta                  994    0.152963\n",
       "Art District            114    0.146440\n",
       "Baldwin Hills           142    0.158982\n",
       "Bel Air                 250    0.154696\n",
       "Beverly Glen            216    0.162599\n",
       "...                     ...         ...\n",
       "Wilmington             2797    0.163433\n",
       "Wilshire Center        1009    0.163769\n",
       "Windsor Hills             1    0.057745\n",
       "Winnetka               1226    0.163329\n",
       "Woodland Hills         3697    0.170938\n",
       "\n",
       "[120 rows x 2 columns]"
      ]
     },
     "execution_count": 8,
     "metadata": {},
     "output_type": "execute_result"
    }
   ],
   "source": [
    "#search_features(FEATURES)"
   ]
  },
  {
   "cell_type": "code",
   "execution_count": null,
   "metadata": {},
   "outputs": [],
   "source": []
  }
 ],
 "metadata": {
  "kernelspec": {
   "display_name": "Python 3",
   "language": "python",
   "name": "python3"
  },
  "language_info": {
   "codemirror_mode": {
    "name": "ipython",
    "version": 3
   },
   "file_extension": ".py",
   "mimetype": "text/x-python",
   "name": "python",
   "nbconvert_exporter": "python",
   "pygments_lexer": "ipython3",
   "version": "3.7.7"
  }
 },
 "nbformat": 4,
 "nbformat_minor": 4
}
