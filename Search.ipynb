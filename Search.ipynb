{
 "cells": [
  {
   "cell_type": "code",
   "execution_count": 16,
   "metadata": {},
   "outputs": [],
   "source": [
    "# Data Manipulation\n",
    "import pandas as pd\n",
    "\n",
    "# Packages to upload to firebase\n",
    "import json\n",
    "import requests"
   ]
  },
  {
   "cell_type": "code",
   "execution_count": 2,
   "metadata": {},
   "outputs": [],
   "source": [
    "# Inputs\n",
    "NEIGHBORHOOD = ['Koreatown']\n",
    "FEATURE = ['AvgACT']"
   ]
  },
  {
   "cell_type": "code",
   "execution_count": 49,
   "metadata": {},
   "outputs": [],
   "source": [
    "# NEIGHBORHOOD + FEATURE\n",
    "\n",
    "query_output_dict = {}\n",
    "\n",
    "for feat in FEATURE:\n",
    "    for neig in NEIGHBORHOOD:\n",
    "        query = f'https://neighborhood-score-la.firebaseio.com/{feat}/{neig}.json'\n",
    "        json_query = requests.get(query)\n",
    "        dict_query = json.loads(json_query.text)\n",
    "        query_output_dict[neig] = {feat: dict_query}\n",
    "\n",
    "df_output = pd.DataFrame.from_dict(query_output_dict).T "
   ]
  },
  {
   "cell_type": "code",
   "execution_count": 48,
   "metadata": {
    "scrolled": false
   },
   "outputs": [],
   "source": [
    "# NEIGHBORHOOD ONLY (ALL FEATURES)\n",
    "\n",
    "query_output_dict = {}\n",
    "\n",
    "for neig in NEIGHBORHOOD:\n",
    "    query = f'https://neighborhood-score-la.firebaseio.com/NeighborhoodData/{neig}.json'\n",
    "    json_query = requests.get(query)\n",
    "    dict_query = json.loads(json_query.text)\n",
    "    query_output_dict[neig] = dict_query\n",
    "\n",
    "df_output = pd.DataFrame.from_dict(query_output_dict).T"
   ]
  },
  {
   "cell_type": "code",
   "execution_count": 47,
   "metadata": {
    "scrolled": true
   },
   "outputs": [],
   "source": [
    "# FEATURE ONLY (ALL NEIGHBORHOODS)\n",
    "\n",
    "query_output_dict = {}\n",
    "\n",
    "for feat in FEATURE:\n",
    "    query = f'https://neighborhood-score-la.firebaseio.com/{feat}.json'\n",
    "    json_query = requests.get(query)\n",
    "    dict_query = json.loads(json_query.text)\n",
    "    query_output_dict[feat] = dict_query\n",
    "\n",
    "df_output = pd.DataFrame.from_dict(query_output_dict)"
   ]
  },
  {
   "cell_type": "code",
   "execution_count": 50,
   "metadata": {},
   "outputs": [
    {
     "data": {
      "text/plain": [
       "{'Koreatown': {'AvgACT': 20.5}}"
      ]
     },
     "execution_count": 50,
     "metadata": {},
     "output_type": "execute_result"
    }
   ],
   "source": [
    "query_output_dict"
   ]
  },
  {
   "cell_type": "code",
   "execution_count": 51,
   "metadata": {},
   "outputs": [
    {
     "data": {
      "text/html": [
       "<div>\n",
       "<style scoped>\n",
       "    .dataframe tbody tr th:only-of-type {\n",
       "        vertical-align: middle;\n",
       "    }\n",
       "\n",
       "    .dataframe tbody tr th {\n",
       "        vertical-align: top;\n",
       "    }\n",
       "\n",
       "    .dataframe thead th {\n",
       "        text-align: right;\n",
       "    }\n",
       "</style>\n",
       "<table border=\"1\" class=\"dataframe\">\n",
       "  <thead>\n",
       "    <tr style=\"text-align: right;\">\n",
       "      <th></th>\n",
       "      <th>AvgACT</th>\n",
       "    </tr>\n",
       "  </thead>\n",
       "  <tbody>\n",
       "    <tr>\n",
       "      <th>Koreatown</th>\n",
       "      <td>20.5</td>\n",
       "    </tr>\n",
       "  </tbody>\n",
       "</table>\n",
       "</div>"
      ],
      "text/plain": [
       "           AvgACT\n",
       "Koreatown    20.5"
      ]
     },
     "execution_count": 51,
     "metadata": {},
     "output_type": "execute_result"
    }
   ],
   "source": [
    "df_output"
   ]
  },
  {
   "cell_type": "code",
   "execution_count": null,
   "metadata": {},
   "outputs": [],
   "source": []
  }
 ],
 "metadata": {
  "kernelspec": {
   "display_name": "Python 3",
   "language": "python",
   "name": "python3"
  },
  "language_info": {
   "codemirror_mode": {
    "name": "ipython",
    "version": 3
   },
   "file_extension": ".py",
   "mimetype": "text/x-python",
   "name": "python",
   "nbconvert_exporter": "python",
   "pygments_lexer": "ipython3",
   "version": "3.7.7"
  }
 },
 "nbformat": 4,
 "nbformat_minor": 4
}
